{
 "cells": [
  {
   "cell_type": "markdown",
   "id": "1bcd443c",
   "metadata": {},
   "source": [
    "# Forecast Gold Prices\n",
    "\n",
    "## Business Objective:\n",
    "\n",
    "\n",
    "### Data provided is related to gold prices. The objective is to understand the underlying structure in your dataset and come up with a suitable forecasting model which can effectively forecast gold prices for next 30 days.\n",
    "### This forecast model will be used by gold exporting and gold importing companies to understand the metal price movements and accordingly set their revenue expectations.\n"
   ]
  },
  {
   "cell_type": "code",
   "execution_count": 1,
   "id": "8c76f06f",
   "metadata": {},
   "outputs": [],
   "source": [
    "import pandas as pd\n",
    "import numpy as np\n",
    "import matplotlib.pyplot as plt\n",
    "import seaborn as sns\n",
    "import datetime as dt\n",
    "\n",
    "from math import sqrt\n",
    "import statsmodels.api as smf\n",
    "import pandas_profiling as pp\n",
    "import matplotlib.pyplot as plt\n",
    "\n",
    "from pandas.plotting import lag_plot\n",
    "import statsmodels.formula.api as sm\n",
    "\n",
    "from sklearn.metrics import mean_squared_error\n",
    "from statsmodels.tsa.stattools import adfuller\n",
    "from statsmodels.tsa.stattools import acf, pacf\n",
    "from statsmodels.graphics.tsaplots import plot_acf\n",
    "from statsmodels.graphics.tsaplots import plot_pacf\n",
    "\n",
    "from statsmodels.tsa.seasonal import seasonal_decompose\n",
    "\n",
    "from statsmodels.tsa.arima.model import ARIMA\n",
    "from statsmodels.tsa.statespace.sarimax import SARIMAX\n",
    "from statsmodels.tsa.seasonal import seasonal_decompose\n",
    "\n",
    "from statsmodels.tsa.holtwinters import SimpleExpSmoothing,ExponentialSmoothing,Holt \n",
    "\n",
    "\n",
    "import warnings\n",
    "warnings.filterwarnings('ignore')"
   ]
  },
  {
   "cell_type": "code",
   "execution_count": 2,
   "id": "1067e0d4",
   "metadata": {},
   "outputs": [
    {
     "data": {
      "text/html": [
       "<div>\n",
       "<style scoped>\n",
       "    .dataframe tbody tr th:only-of-type {\n",
       "        vertical-align: middle;\n",
       "    }\n",
       "\n",
       "    .dataframe tbody tr th {\n",
       "        vertical-align: top;\n",
       "    }\n",
       "\n",
       "    .dataframe thead th {\n",
       "        text-align: right;\n",
       "    }\n",
       "</style>\n",
       "<table border=\"1\" class=\"dataframe\">\n",
       "  <thead>\n",
       "    <tr style=\"text-align: right;\">\n",
       "      <th></th>\n",
       "      <th>date</th>\n",
       "      <th>price</th>\n",
       "    </tr>\n",
       "  </thead>\n",
       "  <tbody>\n",
       "    <tr>\n",
       "      <th>0</th>\n",
       "      <td>2016-01-01</td>\n",
       "      <td>2252.60</td>\n",
       "    </tr>\n",
       "    <tr>\n",
       "      <th>1</th>\n",
       "      <td>2016-01-02</td>\n",
       "      <td>2454.50</td>\n",
       "    </tr>\n",
       "    <tr>\n",
       "      <th>2</th>\n",
       "      <td>2016-01-03</td>\n",
       "      <td>2708.10</td>\n",
       "    </tr>\n",
       "    <tr>\n",
       "      <th>3</th>\n",
       "      <td>2016-01-04</td>\n",
       "      <td>2577.80</td>\n",
       "    </tr>\n",
       "    <tr>\n",
       "      <th>4</th>\n",
       "      <td>2016-01-05</td>\n",
       "      <td>2597.75</td>\n",
       "    </tr>\n",
       "  </tbody>\n",
       "</table>\n",
       "</div>"
      ],
      "text/plain": [
       "         date    price\n",
       "0  2016-01-01  2252.60\n",
       "1  2016-01-02  2454.50\n",
       "2  2016-01-03  2708.10\n",
       "3  2016-01-04  2577.80\n",
       "4  2016-01-05  2597.75"
      ]
     },
     "execution_count": 2,
     "metadata": {},
     "output_type": "execute_result"
    }
   ],
   "source": [
    "data=pd.read_csv('Gold_data.csv',parse_dates=True)\n",
    "data.head()"
   ]
  },
  {
   "cell_type": "markdown",
   "id": "422a23e5",
   "metadata": {},
   "source": [
    "# Exploratory Data Analysis\n",
    "\n",
    "## In Time Series Analysis we will analyze to find out the below stuff\n",
    "\n",
    "- Missing values\n",
    "- Duplicated values\n",
    "- Outlier Detection\n",
    "- Feature Scaling\n",
    "- Feature Extraction\n",
    "- Correlation\n",
    "- Skewness Removal\n",
    "- Data Insights\n",
    "- Stationarity Test\n",
    "- Autocorrelation Function\n",
    "- Partial Autocorrelation Function\n",
    "- Lag plots\n",
    "- Normal Distribution Analysis\n",
    "- Relationshop between independent and dependent feature (Price and date)"
   ]
  },
  {
   "cell_type": "markdown",
   "id": "2a953c1c",
   "metadata": {},
   "source": [
    "## Descriptive Analysis"
   ]
  },
  {
   "cell_type": "code",
   "execution_count": 3,
   "id": "ab482e71",
   "metadata": {},
   "outputs": [
    {
     "name": "stdout",
     "output_type": "stream",
     "text": [
      "<class 'pandas.core.frame.DataFrame'>\n",
      "RangeIndex: 2182 entries, 0 to 2181\n",
      "Data columns (total 2 columns):\n",
      " #   Column  Non-Null Count  Dtype  \n",
      "---  ------  --------------  -----  \n",
      " 0   date    2182 non-null   object \n",
      " 1   price   2182 non-null   float64\n",
      "dtypes: float64(1), object(1)\n",
      "memory usage: 34.2+ KB\n"
     ]
    }
   ],
   "source": [
    "data.info()"
   ]
  },
  {
   "cell_type": "code",
   "execution_count": 4,
   "id": "5ea5739d",
   "metadata": {},
   "outputs": [
    {
     "data": {
      "text/html": [
       "<div>\n",
       "<style scoped>\n",
       "    .dataframe tbody tr th:only-of-type {\n",
       "        vertical-align: middle;\n",
       "    }\n",
       "\n",
       "    .dataframe tbody tr th {\n",
       "        vertical-align: top;\n",
       "    }\n",
       "\n",
       "    .dataframe thead th {\n",
       "        text-align: right;\n",
       "    }\n",
       "</style>\n",
       "<table border=\"1\" class=\"dataframe\">\n",
       "  <thead>\n",
       "    <tr style=\"text-align: right;\">\n",
       "      <th></th>\n",
       "      <th>price</th>\n",
       "    </tr>\n",
       "  </thead>\n",
       "  <tbody>\n",
       "    <tr>\n",
       "      <th>count</th>\n",
       "      <td>2182.000000</td>\n",
       "    </tr>\n",
       "    <tr>\n",
       "      <th>mean</th>\n",
       "      <td>3284.450046</td>\n",
       "    </tr>\n",
       "    <tr>\n",
       "      <th>std</th>\n",
       "      <td>719.564434</td>\n",
       "    </tr>\n",
       "    <tr>\n",
       "      <th>min</th>\n",
       "      <td>2252.600000</td>\n",
       "    </tr>\n",
       "    <tr>\n",
       "      <th>25%</th>\n",
       "      <td>2697.020000</td>\n",
       "    </tr>\n",
       "    <tr>\n",
       "      <th>50%</th>\n",
       "      <td>2879.800000</td>\n",
       "    </tr>\n",
       "    <tr>\n",
       "      <th>75%</th>\n",
       "      <td>4147.325000</td>\n",
       "    </tr>\n",
       "    <tr>\n",
       "      <th>max</th>\n",
       "      <td>4966.300000</td>\n",
       "    </tr>\n",
       "  </tbody>\n",
       "</table>\n",
       "</div>"
      ],
      "text/plain": [
       "             price\n",
       "count  2182.000000\n",
       "mean   3284.450046\n",
       "std     719.564434\n",
       "min    2252.600000\n",
       "25%    2697.020000\n",
       "50%    2879.800000\n",
       "75%    4147.325000\n",
       "max    4966.300000"
      ]
     },
     "execution_count": 4,
     "metadata": {},
     "output_type": "execute_result"
    }
   ],
   "source": [
    "data.describe()"
   ]
  },
  {
   "cell_type": "markdown",
   "id": "fbab43be",
   "metadata": {},
   "source": [
    "- As we can see,in the dataset the **minimum** gold price is 2252 and **maximum** is double i.e. 4966. \n",
    "- Average price is 3284.\n",
    "- The diff between maximum and 75% is not out of bound hence we can say that there is no outlier present in the dataset."
   ]
  },
  {
   "cell_type": "code",
   "execution_count": 5,
   "id": "037a4de6",
   "metadata": {},
   "outputs": [
    {
     "data": {
      "text/plain": [
       "date     0\n",
       "price    0\n",
       "dtype: int64"
      ]
     },
     "execution_count": 5,
     "metadata": {},
     "output_type": "execute_result"
    }
   ],
   "source": [
    "data.isnull().sum()"
   ]
  },
  {
   "cell_type": "code",
   "execution_count": 6,
   "id": "4ca8a0f5",
   "metadata": {},
   "outputs": [
    {
     "data": {
      "text/plain": [
       "0"
      ]
     },
     "execution_count": 6,
     "metadata": {},
     "output_type": "execute_result"
    }
   ],
   "source": [
    "data.duplicated().sum()"
   ]
  },
  {
   "cell_type": "code",
   "execution_count": 7,
   "id": "4d1343c0",
   "metadata": {},
   "outputs": [
    {
     "data": {
      "text/plain": [
       "date     0\n",
       "price    0\n",
       "dtype: int64"
      ]
     },
     "execution_count": 7,
     "metadata": {},
     "output_type": "execute_result"
    }
   ],
   "source": [
    "data.isna().sum()"
   ]
  },
  {
   "cell_type": "markdown",
   "id": "2c900742",
   "metadata": {},
   "source": [
    "-There is no null,duplicated and missing values in dataset."
   ]
  },
  {
   "cell_type": "code",
   "execution_count": 8,
   "id": "7e604e87",
   "metadata": {},
   "outputs": [
    {
     "name": "stdout",
     "output_type": "stream",
     "text": [
      "Year starts from 2016-01-01 to 2021-12-21\n"
     ]
    }
   ],
   "source": [
    "print(\"Year starts from {} to {}\".format(data.date[0],data.date.iloc[-1]))\n"
   ]
  },
  {
   "cell_type": "markdown",
   "id": "f8f5a061",
   "metadata": {},
   "source": [
    "- The data is from 2016 to 2021.\n",
    "- 5 years gold price."
   ]
  },
  {
   "cell_type": "code",
   "execution_count": 9,
   "id": "ea632a18",
   "metadata": {},
   "outputs": [
    {
     "data": {
      "image/png": "[encoded data removed]",
      "text/plain": [
       "<Figure size 400x800 with 1 Axes>"
      ]
     },
     "metadata": {},
     "output_type": "display_data"
    }
   ],
   "source": [
    "plt.figure(figsize=(4,8))\n",
    "plt.boxplot(data.price)\n",
    "plt.show()"
   ]
  },
  {
   "cell_type": "markdown",
   "id": "4c804e97",
   "metadata": {},
   "source": [
    "- ## No outlier present in dataset"
   ]
  },
  {
   "cell_type": "markdown",
   "id": "8697d6ad",
   "metadata": {},
   "source": [
    "# Univariate Analysis\n",
    "### Histogram PLot"
   ]
  },
  {
   "cell_type": "code",
   "execution_count": 10,
   "id": "1eae54ff",
   "metadata": {},
   "outputs": [
    {
     "name": "stdout",
     "output_type": "stream",
     "text": [
      "<class 'pandas.core.frame.DataFrame'>\n",
      "RangeIndex: 2182 entries, 0 to 2181\n",
      "Data columns (total 2 columns):\n",
      " #   Column  Non-Null Count  Dtype         \n",
      "---  ------  --------------  -----         \n",
      " 0   date    2182 non-null   datetime64[ns]\n",
      " 1   price   2182 non-null   float64       \n",
      "dtypes: datetime64[ns](1), float64(1)\n",
      "memory usage: 34.2 KB\n"
     ]
    }
   ],
   "source": [
    "df=data.copy()\n",
    "df['date']=pd.to_datetime(df.date)#,format='%b-%y')\n",
    "df.info()"
   ]
  },
  {
   "cell_type": "code",
   "execution_count": 11,
   "id": "da5e7b0c",
   "metadata": {},
   "outputs": [
    {
     "data": {
      "text/plain": [
       "<AxesSubplot: >"
      ]
     },
     "execution_count": 11,
     "metadata": {},
     "output_type": "execute_result"
    },
    {
     "data": {
      "image/png": "[encoded data removed]",
      "text/plain": [
       "<Figure size 640x480 with 1 Axes>"
      ]
     },
     "metadata": {},
     "output_type": "display_data"
    }
   ],
   "source": [
    "df.price.plot()"
   ]
  },
  {
   "cell_type": "code",
   "execution_count": 12,
   "id": "715a2a2d",
   "metadata": {},
   "outputs": [
    {
     "data": {
      "text/html": [
       "<div>\n",
       "<style scoped>\n",
       "    .dataframe tbody tr th:only-of-type {\n",
       "        vertical-align: middle;\n",
       "    }\n",
       "\n",
       "    .dataframe tbody tr th {\n",
       "        vertical-align: top;\n",
       "    }\n",
       "\n",
       "    .dataframe thead th {\n",
       "        text-align: right;\n",
       "    }\n",
       "</style>\n",
       "<table border=\"1\" class=\"dataframe\">\n",
       "  <thead>\n",
       "    <tr style=\"text-align: right;\">\n",
       "      <th></th>\n",
       "      <th>date</th>\n",
       "      <th>price</th>\n",
       "      <th>Month</th>\n",
       "      <th>Year</th>\n",
       "      <th>quarter</th>\n",
       "      <th>dayno</th>\n",
       "      <th>day_of_week</th>\n",
       "    </tr>\n",
       "  </thead>\n",
       "  <tbody>\n",
       "    <tr>\n",
       "      <th>0</th>\n",
       "      <td>2016-01-01</td>\n",
       "      <td>2252.60</td>\n",
       "      <td>Jan</td>\n",
       "      <td>2016</td>\n",
       "      <td>1</td>\n",
       "      <td>1</td>\n",
       "      <td>Friday</td>\n",
       "    </tr>\n",
       "    <tr>\n",
       "      <th>1</th>\n",
       "      <td>2016-01-02</td>\n",
       "      <td>2454.50</td>\n",
       "      <td>Jan</td>\n",
       "      <td>2016</td>\n",
       "      <td>1</td>\n",
       "      <td>2</td>\n",
       "      <td>Saturday</td>\n",
       "    </tr>\n",
       "    <tr>\n",
       "      <th>2</th>\n",
       "      <td>2016-01-03</td>\n",
       "      <td>2708.10</td>\n",
       "      <td>Jan</td>\n",
       "      <td>2016</td>\n",
       "      <td>1</td>\n",
       "      <td>3</td>\n",
       "      <td>Sunday</td>\n",
       "    </tr>\n",
       "    <tr>\n",
       "      <th>3</th>\n",
       "      <td>2016-01-04</td>\n",
       "      <td>2577.80</td>\n",
       "      <td>Jan</td>\n",
       "      <td>2016</td>\n",
       "      <td>1</td>\n",
       "      <td>4</td>\n",
       "      <td>Monday</td>\n",
       "    </tr>\n",
       "    <tr>\n",
       "      <th>4</th>\n",
       "      <td>2016-01-05</td>\n",
       "      <td>2597.75</td>\n",
       "      <td>Jan</td>\n",
       "      <td>2016</td>\n",
       "      <td>1</td>\n",
       "      <td>5</td>\n",
       "      <td>Tuesday</td>\n",
       "    </tr>\n",
       "  </tbody>\n",
       "</table>\n",
       "</div>"
      ],
      "text/plain": [
       "        date    price Month  Year  quarter  dayno day_of_week\n",
       "0 2016-01-01  2252.60   Jan  2016        1      1      Friday\n",
       "1 2016-01-02  2454.50   Jan  2016        1      2    Saturday\n",
       "2 2016-01-03  2708.10   Jan  2016        1      3      Sunday\n",
       "3 2016-01-04  2577.80   Jan  2016        1      4      Monday\n",
       "4 2016-01-05  2597.75   Jan  2016        1      5     Tuesday"
      ]
     },
     "execution_count": 12,
     "metadata": {},
     "output_type": "execute_result"
    }
   ],
   "source": [
    "# month extraction\n",
    "df['Month']=df.date.dt.strftime('%b')\n",
    "# year extraction\n",
    "df['Year']=df.date.dt.strftime('%Y')\n",
    "df['quarter'] = df['date'].dt.quarter\n",
    "df['dayno']=pd.to_datetime(df.date).dt.strftime('%d')\n",
    "df['day_of_week'] = df['date'].dt.day_name()\n",
    "\n",
    "df[['Month']]=df[['Month']].astype('str')\n",
    "df[['Year']]=df[['Year']].astype(int)\n",
    "df[['quarter']]=df[['quarter']].astype(int)\n",
    "df[['day_of_week']]=df[['day_of_week']].astype(str)\n",
    "df[['dayno']]=df[['dayno']].astype(int)\n",
    "\n",
    "df.head(5)"
   ]
  },
  {
   "cell_type": "code",
   "execution_count": 13,
   "id": "bf84704d",
   "metadata": {},
   "outputs": [
    {
     "name": "stdout",
     "output_type": "stream",
     "text": [
      "<class 'pandas.core.frame.DataFrame'>\n",
      "RangeIndex: 2182 entries, 0 to 2181\n",
      "Data columns (total 7 columns):\n",
      " #   Column       Non-Null Count  Dtype         \n",
      "---  ------       --------------  -----         \n",
      " 0   date         2182 non-null   datetime64[ns]\n",
      " 1   price        2182 non-null   float64       \n",
      " 2   Month        2182 non-null   object        \n",
      " 3   Year         2182 non-null   int32         \n",
      " 4   quarter      2182 non-null   int32         \n",
      " 5   dayno        2182 non-null   int32         \n",
      " 6   day_of_week  2182 non-null   object        \n",
      "dtypes: datetime64[ns](1), float64(1), int32(3), object(2)\n",
      "memory usage: 93.9+ KB\n"
     ]
    }
   ],
   "source": [
    "df.info()"
   ]
  },
  {
   "cell_type": "code",
   "execution_count": 14,
   "id": "24ad939d",
   "metadata": {},
   "outputs": [
    {
     "data": {
      "text/html": [
       "<div>\n",
       "<style scoped>\n",
       "    .dataframe tbody tr th:only-of-type {\n",
       "        vertical-align: middle;\n",
       "    }\n",
       "\n",
       "    .dataframe tbody tr th {\n",
       "        vertical-align: top;\n",
       "    }\n",
       "\n",
       "    .dataframe thead th {\n",
       "        text-align: right;\n",
       "    }\n",
       "</style>\n",
       "<table border=\"1\" class=\"dataframe\">\n",
       "  <thead>\n",
       "    <tr style=\"text-align: right;\">\n",
       "      <th></th>\n",
       "      <th>date</th>\n",
       "      <th>price</th>\n",
       "      <th>Month</th>\n",
       "      <th>Year</th>\n",
       "      <th>quarter</th>\n",
       "      <th>dayno</th>\n",
       "      <th>day_of_week</th>\n",
       "      <th>change</th>\n",
       "      <th>Difference</th>\n",
       "    </tr>\n",
       "  </thead>\n",
       "  <tbody>\n",
       "    <tr>\n",
       "      <th>0</th>\n",
       "      <td>2016-01-01</td>\n",
       "      <td>2252.60</td>\n",
       "      <td>Jan</td>\n",
       "      <td>2016</td>\n",
       "      <td>1</td>\n",
       "      <td>1</td>\n",
       "      <td>Friday</td>\n",
       "      <td>NaN</td>\n",
       "      <td>NaN</td>\n",
       "    </tr>\n",
       "    <tr>\n",
       "      <th>1</th>\n",
       "      <td>2016-01-02</td>\n",
       "      <td>2454.50</td>\n",
       "      <td>Jan</td>\n",
       "      <td>2016</td>\n",
       "      <td>1</td>\n",
       "      <td>2</td>\n",
       "      <td>Saturday</td>\n",
       "      <td>0.089630</td>\n",
       "      <td>201.90</td>\n",
       "    </tr>\n",
       "    <tr>\n",
       "      <th>2</th>\n",
       "      <td>2016-01-03</td>\n",
       "      <td>2708.10</td>\n",
       "      <td>Jan</td>\n",
       "      <td>2016</td>\n",
       "      <td>1</td>\n",
       "      <td>3</td>\n",
       "      <td>Sunday</td>\n",
       "      <td>0.103320</td>\n",
       "      <td>253.60</td>\n",
       "    </tr>\n",
       "    <tr>\n",
       "      <th>3</th>\n",
       "      <td>2016-01-04</td>\n",
       "      <td>2577.80</td>\n",
       "      <td>Jan</td>\n",
       "      <td>2016</td>\n",
       "      <td>1</td>\n",
       "      <td>4</td>\n",
       "      <td>Monday</td>\n",
       "      <td>-0.048115</td>\n",
       "      <td>-130.30</td>\n",
       "    </tr>\n",
       "    <tr>\n",
       "      <th>4</th>\n",
       "      <td>2016-01-05</td>\n",
       "      <td>2597.75</td>\n",
       "      <td>Jan</td>\n",
       "      <td>2016</td>\n",
       "      <td>1</td>\n",
       "      <td>5</td>\n",
       "      <td>Tuesday</td>\n",
       "      <td>0.007739</td>\n",
       "      <td>19.95</td>\n",
       "    </tr>\n",
       "  </tbody>\n",
       "</table>\n",
       "</div>"
      ],
      "text/plain": [
       "        date    price Month  Year  quarter  dayno day_of_week    change  \\\n",
       "0 2016-01-01  2252.60   Jan  2016        1      1      Friday       NaN   \n",
       "1 2016-01-02  2454.50   Jan  2016        1      2    Saturday  0.089630   \n",
       "2 2016-01-03  2708.10   Jan  2016        1      3      Sunday  0.103320   \n",
       "3 2016-01-04  2577.80   Jan  2016        1      4      Monday -0.048115   \n",
       "4 2016-01-05  2597.75   Jan  2016        1      5     Tuesday  0.007739   \n",
       "\n",
       "   Difference  \n",
       "0         NaN  \n",
       "1      201.90  \n",
       "2      253.60  \n",
       "3     -130.30  \n",
       "4       19.95  "
      ]
     },
     "execution_count": 14,
     "metadata": {},
     "output_type": "execute_result"
    }
   ],
   "source": [
    "df['change']=df['price'].pct_change() \n",
    "df['Difference']=df['price'].diff() \n",
    "df.head()"
   ]
  },
  {
   "cell_type": "code",
   "execution_count": 15,
   "id": "20ad368b",
   "metadata": {},
   "outputs": [
    {
     "data": {
      "text/html": [
       "<div>\n",
       "<style scoped>\n",
       "    .dataframe tbody tr th:only-of-type {\n",
       "        vertical-align: middle;\n",
       "    }\n",
       "\n",
       "    .dataframe tbody tr th {\n",
       "        vertical-align: top;\n",
       "    }\n",
       "\n",
       "    .dataframe thead th {\n",
       "        text-align: right;\n",
       "    }\n",
       "</style>\n",
       "<table border=\"1\" class=\"dataframe\">\n",
       "  <thead>\n",
       "    <tr style=\"text-align: right;\">\n",
       "      <th></th>\n",
       "      <th>price</th>\n",
       "      <th>change</th>\n",
       "      <th>Difference</th>\n",
       "    </tr>\n",
       "  </thead>\n",
       "  <tbody>\n",
       "    <tr>\n",
       "      <th>count</th>\n",
       "      <td>2182.000000</td>\n",
       "      <td>2181.000000</td>\n",
       "      <td>2181.000000</td>\n",
       "    </tr>\n",
       "    <tr>\n",
       "      <th>mean</th>\n",
       "      <td>3284.450046</td>\n",
       "      <td>0.000805</td>\n",
       "      <td>0.960064</td>\n",
       "    </tr>\n",
       "    <tr>\n",
       "      <th>std</th>\n",
       "      <td>719.564434</td>\n",
       "      <td>0.031395</td>\n",
       "      <td>113.947909</td>\n",
       "    </tr>\n",
       "    <tr>\n",
       "      <th>min</th>\n",
       "      <td>2252.600000</td>\n",
       "      <td>-0.249826</td>\n",
       "      <td>-1187.100000</td>\n",
       "    </tr>\n",
       "    <tr>\n",
       "      <th>25%</th>\n",
       "      <td>2697.020000</td>\n",
       "      <td>-0.005752</td>\n",
       "      <td>-18.300000</td>\n",
       "    </tr>\n",
       "    <tr>\n",
       "      <th>50%</th>\n",
       "      <td>2879.800000</td>\n",
       "      <td>0.000000</td>\n",
       "      <td>0.000000</td>\n",
       "    </tr>\n",
       "    <tr>\n",
       "      <th>75%</th>\n",
       "      <td>4147.325000</td>\n",
       "      <td>0.006973</td>\n",
       "      <td>22.800000</td>\n",
       "    </tr>\n",
       "    <tr>\n",
       "      <th>max</th>\n",
       "      <td>4966.300000</td>\n",
       "      <td>0.170527</td>\n",
       "      <td>687.800000</td>\n",
       "    </tr>\n",
       "  </tbody>\n",
       "</table>\n",
       "</div>"
      ],
      "text/plain": [
       "             price       change   Difference\n",
       "count  2182.000000  2181.000000  2181.000000\n",
       "mean   3284.450046     0.000805     0.960064\n",
       "std     719.564434     0.031395   113.947909\n",
       "min    2252.600000    -0.249826 -1187.100000\n",
       "25%    2697.020000    -0.005752   -18.300000\n",
       "50%    2879.800000     0.000000     0.000000\n",
       "75%    4147.325000     0.006973    22.800000\n",
       "max    4966.300000     0.170527   687.800000"
      ]
     },
     "execution_count": 15,
     "metadata": {},
     "output_type": "execute_result"
    }
   ],
   "source": [
    "df[['price','change','Difference']].describe()"
   ]
  },
  {
   "cell_type": "code",
   "execution_count": 16,
   "id": "89a0c8be",
   "metadata": {},
   "outputs": [
    {
     "data": {
      "text/html": [
       "<div>\n",
       "<style scoped>\n",
       "    .dataframe tbody tr th:only-of-type {\n",
       "        vertical-align: middle;\n",
       "    }\n",
       "\n",
       "    .dataframe tbody tr th {\n",
       "        vertical-align: top;\n",
       "    }\n",
       "\n",
       "    .dataframe thead th {\n",
       "        text-align: right;\n",
       "    }\n",
       "</style>\n",
       "<table border=\"1\" class=\"dataframe\">\n",
       "  <thead>\n",
       "    <tr style=\"text-align: right;\">\n",
       "      <th></th>\n",
       "      <th>date</th>\n",
       "      <th>price</th>\n",
       "      <th>Month</th>\n",
       "      <th>Year</th>\n",
       "      <th>quarter</th>\n",
       "      <th>dayno</th>\n",
       "      <th>day_of_week</th>\n",
       "      <th>change</th>\n",
       "      <th>Difference</th>\n",
       "    </tr>\n",
       "  </thead>\n",
       "  <tbody>\n",
       "    <tr>\n",
       "      <th>1620</th>\n",
       "      <td>2020-06-08</td>\n",
       "      <td>4966.3</td>\n",
       "      <td>Jun</td>\n",
       "      <td>2020</td>\n",
       "      <td>2</td>\n",
       "      <td>8</td>\n",
       "      <td>Monday</td>\n",
       "      <td>0.160757</td>\n",
       "      <td>687.8</td>\n",
       "    </tr>\n",
       "  </tbody>\n",
       "</table>\n",
       "</div>"
      ],
      "text/plain": [
       "           date   price Month  Year  quarter  dayno day_of_week    change  \\\n",
       "1620 2020-06-08  4966.3   Jun  2020        2      8      Monday  0.160757   \n",
       "\n",
       "      Difference  \n",
       "1620       687.8  "
      ]
     },
     "execution_count": 16,
     "metadata": {},
     "output_type": "execute_result"
    }
   ],
   "source": [
    "# To find information of maximum price\n",
    "df[df['price']==4966.300000]"
   ]
  },
  {
   "cell_type": "code",
   "execution_count": 17,
   "id": "7dc9236f",
   "metadata": {},
   "outputs": [
    {
     "data": {
      "text/html": [
       "<div>\n",
       "<style scoped>\n",
       "    .dataframe tbody tr th:only-of-type {\n",
       "        vertical-align: middle;\n",
       "    }\n",
       "\n",
       "    .dataframe tbody tr th {\n",
       "        vertical-align: top;\n",
       "    }\n",
       "\n",
       "    .dataframe thead th {\n",
       "        text-align: right;\n",
       "    }\n",
       "</style>\n",
       "<table border=\"1\" class=\"dataframe\">\n",
       "  <thead>\n",
       "    <tr style=\"text-align: right;\">\n",
       "      <th></th>\n",
       "      <th>date</th>\n",
       "      <th>price</th>\n",
       "      <th>Month</th>\n",
       "      <th>Year</th>\n",
       "      <th>quarter</th>\n",
       "      <th>dayno</th>\n",
       "      <th>day_of_week</th>\n",
       "      <th>change</th>\n",
       "      <th>Difference</th>\n",
       "    </tr>\n",
       "  </thead>\n",
       "  <tbody>\n",
       "    <tr>\n",
       "      <th>91</th>\n",
       "      <td>2016-04-01</td>\n",
       "      <td>2299.8</td>\n",
       "      <td>Apr</td>\n",
       "      <td>2016</td>\n",
       "      <td>2</td>\n",
       "      <td>1</td>\n",
       "      <td>Friday</td>\n",
       "      <td>-0.125352</td>\n",
       "      <td>-329.6</td>\n",
       "    </tr>\n",
       "  </tbody>\n",
       "</table>\n",
       "</div>"
      ],
      "text/plain": [
       "         date   price Month  Year  quarter  dayno day_of_week    change  \\\n",
       "91 2016-04-01  2299.8   Apr  2016        2      1      Friday -0.125352   \n",
       "\n",
       "    Difference  \n",
       "91      -329.6  "
      ]
     },
     "execution_count": 17,
     "metadata": {},
     "output_type": "execute_result"
    }
   ],
   "source": [
    "# To find information of minimum price\n",
    "df[df['price']==2299.800000]"
   ]
  },
  {
   "cell_type": "markdown",
   "id": "cd6c4ed2",
   "metadata": {},
   "source": [
    "**From the above we can say that the highest Gold price on thw 8th Jun 2020 and the lowest price on the 1st April 2016.**"
   ]
  },
  {
   "cell_type": "code",
   "execution_count": 18,
   "id": "82658fc1",
   "metadata": {},
   "outputs": [
    {
     "data": {
      "text/html": [
       "<div>\n",
       "<style scoped>\n",
       "    .dataframe tbody tr th:only-of-type {\n",
       "        vertical-align: middle;\n",
       "    }\n",
       "\n",
       "    .dataframe tbody tr th {\n",
       "        vertical-align: top;\n",
       "    }\n",
       "\n",
       "    .dataframe thead th {\n",
       "        text-align: right;\n",
       "    }\n",
       "</style>\n",
       "<table border=\"1\" class=\"dataframe\">\n",
       "  <thead>\n",
       "    <tr style=\"text-align: right;\">\n",
       "      <th></th>\n",
       "      <th>Year</th>\n",
       "      <th>price</th>\n",
       "    </tr>\n",
       "  </thead>\n",
       "  <tbody>\n",
       "    <tr>\n",
       "      <th>0</th>\n",
       "      <td>2016</td>\n",
       "      <td>2690.614162</td>\n",
       "    </tr>\n",
       "    <tr>\n",
       "      <th>1</th>\n",
       "      <td>2017</td>\n",
       "      <td>2626.676484</td>\n",
       "    </tr>\n",
       "    <tr>\n",
       "      <th>2</th>\n",
       "      <td>2018</td>\n",
       "      <td>2781.938082</td>\n",
       "    </tr>\n",
       "    <tr>\n",
       "      <th>3</th>\n",
       "      <td>2019</td>\n",
       "      <td>3150.210685</td>\n",
       "    </tr>\n",
       "    <tr>\n",
       "      <th>4</th>\n",
       "      <td>2020</td>\n",
       "      <td>4216.378689</td>\n",
       "    </tr>\n",
       "    <tr>\n",
       "      <th>5</th>\n",
       "      <td>2021</td>\n",
       "      <td>4266.871549</td>\n",
       "    </tr>\n",
       "  </tbody>\n",
       "</table>\n",
       "</div>"
      ],
      "text/plain": [
       "   Year        price\n",
       "0  2016  2690.614162\n",
       "1  2017  2626.676484\n",
       "2  2018  2781.938082\n",
       "3  2019  3150.210685\n",
       "4  2020  4216.378689\n",
       "5  2021  4266.871549"
      ]
     },
     "execution_count": 18,
     "metadata": {},
     "output_type": "execute_result"
    }
   ],
   "source": [
    "df_year = df[['price','Year']].groupby(by='Year').mean().reset_index()\n",
    "df_year"
   ]
  },
  {
   "cell_type": "markdown",
   "id": "c0b3a4e1",
   "metadata": {},
   "source": [
    "**Here we can see the average of every year**"
   ]
  },
  {
   "cell_type": "code",
   "execution_count": 19,
   "id": "efbb807b",
   "metadata": {},
   "outputs": [
    {
     "data": {
      "text/plain": [
       "<seaborn.axisgrid.FacetGrid at 0x1a518c297c0>"
      ]
     },
     "execution_count": 19,
     "metadata": {},
     "output_type": "execute_result"
    },
    {
     "data": {
      "image/png": "[encoded data removed]",
      "text/plain": [
       "<Figure size 1000x500 with 1 Axes>"
      ]
     },
     "metadata": {},
     "output_type": "display_data"
    }
   ],
   "source": [
    "sns.catplot(x='Year',y='price',data=df_year,kind='bar',aspect=2)"
   ]
  },
  {
   "cell_type": "code",
   "execution_count": null,
   "id": "16e6e9f0",
   "metadata": {},
   "outputs": [],
   "source": []
  },
  {
   "cell_type": "code",
   "execution_count": 20,
   "id": "ce59b432",
   "metadata": {},
   "outputs": [
    {
     "data": {
      "image/png": "[encoded data removed]",
      "text/plain": [
       "<Figure size 1600x600 with 1 Axes>"
      ]
     },
     "metadata": {},
     "output_type": "display_data"
    }
   ],
   "source": [
    "_, ax = plt.subplots(figsize=(16,6))\n",
    "sns.histplot(data=df,x='price',kde=True,color='black')\n",
    "plt.show()"
   ]
  },
  {
   "cell_type": "code",
   "execution_count": 21,
   "id": "38c7c511",
   "metadata": {},
   "outputs": [
    {
     "data": {
      "image/png": "[encoded data removed]",
      "text/plain": [
       "<Figure size 1600x600 with 1 Axes>"
      ]
     },
     "metadata": {},
     "output_type": "display_data"
    }
   ],
   "source": [
    "_, ax = plt.subplots(figsize=(16,6))\n",
    "sns.kdeplot(ax=ax,data=df, x=\"price\", hue=\"quarter\",fill=True, common_norm=False, palette=\"hls\", alpha=.5, linewidth=0,)\n",
    "plt.show()"
   ]
  },
  {
   "cell_type": "code",
   "execution_count": null,
   "id": "0a7251ba",
   "metadata": {},
   "outputs": [],
   "source": [
    "_, ax = plt.subplots(figsize=(15,8))\n",
    "sns.ecdfplot(data=df, y=\"price\",ax=ax,hue='Year',palette=\"hls\")\n",
    "plt.show()"
   ]
  },
  {
   "cell_type": "code",
   "execution_count": null,
   "id": "bf6be22d",
   "metadata": {},
   "outputs": [],
   "source": [
    "_, ax = plt.subplots(figsize=(8,4))\n",
    "dfm=df.groupby(['Month']).max().sort_values(by='price',ascending=False).plot.bar(y='price',ax=ax,title='Max price in month')"
   ]
  },
  {
   "cell_type": "code",
   "execution_count": null,
   "id": "e6940372",
   "metadata": {},
   "outputs": [],
   "source": [
    "_, ax = plt.subplots(figsize=(8,4))\n",
    "dfq=df.groupby(['quarter']).max().sort_values(by='price',ascending=False).plot.bar(y='Difference',ax=ax,title='Max Difference in Quarter')"
   ]
  },
  {
   "cell_type": "code",
   "execution_count": null,
   "id": "9e64c422",
   "metadata": {},
   "outputs": [],
   "source": [
    "dfdate=df[['date','price']]\n",
    "dfdate.set_index('date', inplace=True)"
   ]
  },
  {
   "cell_type": "code",
   "execution_count": null,
   "id": "e963b2d4",
   "metadata": {},
   "outputs": [],
   "source": [
    "#data.plot(kind ='line',x = 'date', y = 'price', figsize = (16,8), marker = 'o')\n",
    "dfdate.plot(figsize=(16,6),color='green')\n",
    "plt.title(\"Gold price (yearly) since 2016\")\n",
    "plt.xlabel(\"Years\")\n",
    "plt.ylabel(\"Price\")\n",
    "plt.grid();"
   ]
  },
  {
   "cell_type": "code",
   "execution_count": null,
   "id": "e8fd09bc",
   "metadata": {},
   "outputs": [],
   "source": [
    "dfqd=df[['quarter','Difference']]\n",
    "dfqd.set_index('quarter',inplace=True)"
   ]
  },
  {
   "cell_type": "code",
   "execution_count": null,
   "id": "098ad468",
   "metadata": {},
   "outputs": [],
   "source": [
    "_, ax = plt.subplots(figsize=(16,6))\n",
    "sns.stripplot(x = dfqd.index,y = dfqd.Difference,ax=ax)\n",
    "plt.title(\"Gold price Difference in each quarter\")\n",
    "plt.xlabel(\"Quarters\")\n",
    "plt.ylabel(\"Difference\")\n",
    "plt.grid();"
   ]
  },
  {
   "cell_type": "markdown",
   "id": "0af6afe6",
   "metadata": {},
   "source": [
    "### For 2020 year "
   ]
  },
  {
   "cell_type": "code",
   "execution_count": null,
   "id": "473ea3b3",
   "metadata": {},
   "outputs": [],
   "source": [
    "df2020=df[['Month','price','Year','dayno']]\n",
    "df2020=df2020[df2020['Year']==2020]\n",
    "df2020=df2020.drop('Year',axis=1)\n",
    "df2020.set_index('Month',inplace=True)"
   ]
  },
  {
   "cell_type": "code",
   "execution_count": null,
   "id": "b7fb46c9",
   "metadata": {},
   "outputs": [],
   "source": [
    "df2020[['price']].plot(figsize=(16,6),color='blue')\n",
    "plt.title(\"Gold price volatility in 2020\")\n",
    "plt.xlabel(\"Months\")\n",
    "plt.ylabel(\"Price\")\n",
    "plt.grid();"
   ]
  },
  {
   "cell_type": "markdown",
   "id": "a369ca62",
   "metadata": {},
   "source": [
    "### For 2020 January month"
   ]
  },
  {
   "cell_type": "code",
   "execution_count": null,
   "id": "13c2278e",
   "metadata": {},
   "outputs": [],
   "source": [
    "df2020_jan=df2020[df2020.index=='Jan']\n",
    "df2020_jan.set_index('dayno',inplace=True)"
   ]
  },
  {
   "cell_type": "code",
   "execution_count": null,
   "id": "31444ce6",
   "metadata": {},
   "outputs": [],
   "source": [
    "df2020_jan[['price']].plot(figsize=(16,6),color='red')\n",
    "plt.title(\"Gold price volatility in jan 2020\")\n",
    "plt.xlabel(\"january\")\n",
    "plt.ylabel(\"Price\")\n",
    "plt.grid();"
   ]
  },
  {
   "cell_type": "code",
   "execution_count": null,
   "id": "c4069cc6",
   "metadata": {},
   "outputs": [],
   "source": [
    "dfmonths=df.groupby('Month')[['price','Difference']].std()\n",
    "dfmonths=dfmonths.reset_index()"
   ]
  },
  {
   "cell_type": "code",
   "execution_count": null,
   "id": "8413d60f",
   "metadata": {},
   "outputs": [],
   "source": [
    "_, ax = plt.subplots(figsize=(16,6))\n",
    "sns.lineplot(x ='Month',y='price',data=dfmonths,ax=ax,color='green')\n",
    "plt.title(\"Gold price SD monthly since 2016\")\n",
    "plt.xlabel(\"Months\")\n",
    "plt.ylabel(\"SD\")\n",
    "plt.grid();"
   ]
  },
  {
   "cell_type": "code",
   "execution_count": null,
   "id": "3fff4e6c",
   "metadata": {},
   "outputs": [],
   "source": [
    "# Box Plot of each year month intervals\n",
    "plt.figure(figsize=(15,10))\n",
    "plt.subplot(211)\n",
    "sns.boxplot(x='Month',y=\"price\",data=df)\n",
    "plt.subplot(212)\n",
    "sns.boxplot(x='Year',y=\"price\",data=df)\n"
   ]
  },
  {
   "cell_type": "code",
   "execution_count": null,
   "id": "e1be1e34",
   "metadata": {},
   "outputs": [],
   "source": [
    "sns.violinplot(x='quarter',y=\"price\",data=df)\n",
    "plt.title(\"Gold price Quarterly since 2016\")\n",
    "plt.xlabel(\"Quarters\")\n",
    "plt.ylabel(\"Price\")\n",
    "plt.grid();"
   ]
  },
  {
   "cell_type": "code",
   "execution_count": null,
   "id": "89cbf5d3",
   "metadata": {},
   "outputs": [],
   "source": [
    "sns.boxplot(x='day_of_week',y=\"price\",data=df)\n",
    "plt.title(\"Gold price daily since 2016\")\n",
    "plt.xlabel(\"Weekday\")\n",
    "plt.ylabel(\"Price\")\n",
    "plt.grid();"
   ]
  },
  {
   "cell_type": "code",
   "execution_count": null,
   "id": "c23c11a7",
   "metadata": {},
   "outputs": [],
   "source": [
    "dfd=df[['dayno','price']]\n",
    "dfd.set_index('dayno',inplace=True)"
   ]
  },
  {
   "cell_type": "code",
   "execution_count": null,
   "id": "2fd6da48",
   "metadata": {},
   "outputs": [],
   "source": [
    "_, ax = plt.subplots(figsize=(16,6))\n",
    "sns.boxenplot(x = dfd.index,y = dfd.price,ax=ax)\n",
    "plt.title(\"Gold price on each day since 2016\")\n",
    "plt.xlabel(\"Dayno\")\n",
    "plt.ylabel(\"Price\")\n",
    "plt.grid();"
   ]
  },
  {
   "cell_type": "code",
   "execution_count": null,
   "id": "532c007a",
   "metadata": {},
   "outputs": [],
   "source": [
    "dfs=df[['Difference','price','change']]\n",
    "dfs=dfs.iloc[1:]\n",
    "dfs"
   ]
  },
  {
   "cell_type": "code",
   "execution_count": null,
   "id": "ec7a9924",
   "metadata": {},
   "outputs": [],
   "source": [
    "_, ax = plt.subplots(figsize=(16,6))\n",
    "sns.scatterplot(x='price',y='Difference',hue='change',palette=\"flare\",data=dfs,ax=ax)\n",
    "plt.show()"
   ]
  },
  {
   "cell_type": "code",
   "execution_count": null,
   "id": "2c0793f1",
   "metadata": {},
   "outputs": [],
   "source": [
    "df.head()"
   ]
  },
  {
   "cell_type": "code",
   "execution_count": null,
   "id": "af688122",
   "metadata": {},
   "outputs": [],
   "source": [
    "# Heatmap\n",
    "plt.figure(figsize=(15,8))\n",
    "y_m=pd.pivot_table(data=df,values='price',index='Year',columns='Month',aggfunc=\"mean\",fill_value=0)\n",
    "sns.heatmap(y_m,annot=True,fmt='g')"
   ]
  },
  {
   "cell_type": "code",
   "execution_count": null,
   "id": "7e8808cb",
   "metadata": {},
   "outputs": [],
   "source": [
    "sns.jointplot(data=df, x=\"price\", y=\"change\", hue=\"Year\",palette=\"hls\")\n",
    "plt.show()"
   ]
  },
  {
   "cell_type": "code",
   "execution_count": null,
   "id": "cdf1428e",
   "metadata": {},
   "outputs": [],
   "source": [
    "plt.figure(figsize=(15,4))\n",
    "sns.lineplot(x='Month',y=\"price\",data=df)"
   ]
  },
  {
   "cell_type": "code",
   "execution_count": null,
   "id": "e2e9e945",
   "metadata": {},
   "outputs": [],
   "source": [
    "plt.figure(figsize=(15,4))\n",
    "sns.lineplot(x='Year',y=\"price\",data=df)"
   ]
  },
  {
   "cell_type": "code",
   "execution_count": null,
   "id": "445a1d86",
   "metadata": {},
   "outputs": [],
   "source": [
    "plt.figure(figsize=(15,4))\n",
    "sns.lineplot(x='quarter',y=\"price\",data=df)"
   ]
  },
  {
   "cell_type": "code",
   "execution_count": null,
   "id": "d2aa95be",
   "metadata": {},
   "outputs": [],
   "source": [
    "plt.figure(figsize=(15,4))\n",
    "sns.lineplot(x='day_of_week',y=\"price\",data=df)"
   ]
  },
  {
   "cell_type": "code",
   "execution_count": null,
   "id": "1962c68c",
   "metadata": {
    "scrolled": false
   },
   "outputs": [],
   "source": [
    "# Lag plot\n",
    "plt.figure(figsize=(10,5))\n",
    "for i in [1,4,8,12,16,20,24,28,32,36,40]:\n",
    "    lag_plot(df.price,lag=i)\n",
    "    plt.show()"
   ]
  },
  {
   "cell_type": "code",
   "execution_count": null,
   "id": "0c7d948a",
   "metadata": {},
   "outputs": [],
   "source": [
    "#Moving Average\n",
    "plt.figure(figsize=(15,5))\n",
    "df['price'].plot()\n",
    "for i in [1,4,8,12,16]:\n",
    "    df['price'].rolling(i).mean().plot(label=str(i))\n",
    "plt.legend(loc='best')"
   ]
  },
  {
   "cell_type": "code",
   "execution_count": null,
   "id": "402188ee",
   "metadata": {},
   "outputs": [],
   "source": [
    "df1=data.copy()\n",
    "df1.head()"
   ]
  },
  {
   "cell_type": "code",
   "execution_count": null,
   "id": "f896b36d",
   "metadata": {},
   "outputs": [],
   "source": [
    "\n",
    "df1['date']=pd.to_datetime(df['date'])\n",
    "df1.set_index('date',inplace=True)\n",
    "df1.head()"
   ]
  },
  {
   "cell_type": "code",
   "execution_count": null,
   "id": "689fc8c4",
   "metadata": {},
   "outputs": [],
   "source": [
    "df1=df1.resample('1M').mean()"
   ]
  },
  {
   "cell_type": "code",
   "execution_count": null,
   "id": "557a29bc",
   "metadata": {},
   "outputs": [],
   "source": [
    "df1.head() "
   ]
  },
  {
   "cell_type": "code",
   "execution_count": null,
   "id": "c05071d2",
   "metadata": {
    "scrolled": false
   },
   "outputs": [],
   "source": [
    "# Lag plot for monthly mean\n",
    "plt.figure(figsize=(10,5))\n",
    "for i in [1,4,8,12,16,20,24,28,32,36,40]:\n",
    "    lag_plot(df1.price,lag=i)\n",
    "    plt.show()"
   ]
  },
  {
   "cell_type": "code",
   "execution_count": null,
   "id": "b676aabd",
   "metadata": {},
   "outputs": [],
   "source": [
    "#Moving Average for monthly mean\n",
    "plt.figure(figsize=(15,5))\n",
    "df1['price'].plot()\n",
    "for i in [1,4,8,12,16]:\n",
    "    \n",
    "    df1['price'].rolling(i).mean().plot(label=str(i))\n",
    "plt.legend(loc='best')"
   ]
  },
  {
   "cell_type": "code",
   "execution_count": null,
   "id": "a72749c0",
   "metadata": {},
   "outputs": [],
   "source": [
    "plt.figure(figsize=(15,5))\n",
    "df1['price'].plot()\n",
    "plt.title(\"Original Series\")\n",
    "for i in [2,3,4]:\n",
    "    plt.figure(figsize=(16,4))\n",
    "    df[\"price\"].rolling(i).mean().plot(label=str(i))\n",
    "    plt.title(\"Moving Average \"+str(i))\n",
    "    plt.legend(loc='best')\n",
    "    plt.show()"
   ]
  },
  {
   "cell_type": "markdown",
   "id": "05187f58",
   "metadata": {},
   "source": [
    "# Time-Series Decomposition"
   ]
  },
  {
   "cell_type": "code",
   "execution_count": null,
   "id": "e2f59602",
   "metadata": {},
   "outputs": [],
   "source": [
    "#Time Series decomposition plot\n",
    "decompose_ts_add=seasonal_decompose(df['price'],period=4)\n",
    "with plt.rc_context():\n",
    "    plt.rc('figure',figsize=(15,10))\n",
    "    decompose_ts_add.plot()\n",
    "    plt.show()"
   ]
  },
  {
   "cell_type": "markdown",
   "id": "920b522b",
   "metadata": {},
   "source": [
    "### Additive Seasonal Decompose"
   ]
  },
  {
   "cell_type": "code",
   "execution_count": null,
   "id": "2374cfd8",
   "metadata": {},
   "outputs": [],
   "source": [
    "import statsmodels.api as sm\n",
    "from statsmodels.tsa.seasonal import seasonal_decompose\n",
    "decomposition = sm.tsa.seasonal_decompose(df['price'], model='additive',period=120)\n",
    "fig = decomposition.plot()\n",
    "plt.show()"
   ]
  },
  {
   "cell_type": "markdown",
   "id": "15db8b27",
   "metadata": {},
   "source": [
    "**Analysis:- Observed - Actual data**\n",
    "- Trend - Increasing or decreasing trend.\n",
    "- Seasonal - Varies from +0.5 to -0.5 with the mean 0. Each cycle represents each year trend. The value in the Y-axis has to be added to the Trend plot value to get the actual value of that year. E.g.:- For the year 1988 Nov, the seasonal value is +0.5 and the trend value is 100. Hence, teh actual value(passengers number) will (seasonal+Trend) value = 0.5+100 = 100.5\n",
    "\n",
    "- Residual - It is the noise pattern of the time series data for each year, which was not captured by the two components - Trend and Seasonality. Residual is the left over after decomposition of the two major components (Trend and Seasonality)\n",
    "## Multiplicative Seasonal Decomposition"
   ]
  },
  {
   "cell_type": "code",
   "execution_count": null,
   "id": "f14c3a99",
   "metadata": {},
   "outputs": [],
   "source": [
    "decomposition = sm.tsa.seasonal_decompose(df['price'], model='multiplicative',period=120)\n",
    "fig = decomposition.plot()\n",
    "plt.show()"
   ]
  },
  {
   "cell_type": "markdown",
   "id": "1e0fe4a2",
   "metadata": {},
   "source": [
    "# PACFand ACF plot"
   ]
  },
  {
   "cell_type": "code",
   "execution_count": null,
   "id": "99f3454e",
   "metadata": {},
   "outputs": [],
   "source": [
    "import statsmodels.graphics.tsaplots as tsa_plots\n",
    "with plt.rc_context():\n",
    "    plt.rc(\"figure\", figsize=(12,4))\n",
    "    tsa_plots.plot_acf(df.price,lags=45)\n",
    "    tsa_plots.plot_pacf(df.price,lags=35)\n",
    "    plt.show()"
   ]
  },
  {
   "cell_type": "markdown",
   "id": "6562fd7d",
   "metadata": {},
   "source": [
    "### Monthwise yearly Price"
   ]
  },
  {
   "cell_type": "code",
   "execution_count": null,
   "id": "35168675",
   "metadata": {
    "scrolled": true
   },
   "outputs": [],
   "source": [
    "df1['price'].plot(figsize=(20, 8),color='red',marker='o')\n",
    "plt.show()"
   ]
  },
  {
   "cell_type": "code",
   "execution_count": null,
   "id": "008a56f1",
   "metadata": {},
   "outputs": [],
   "source": [
    "df_eda=df.copy()\n",
    "df_eda.set_index('date',inplace=True)\n",
    "df_eda.tail()"
   ]
  },
  {
   "cell_type": "code",
   "execution_count": null,
   "id": "7b36df6a",
   "metadata": {},
   "outputs": [],
   "source": [
    "# Visualizing changes in mean over 365 days.\n",
    "moving_average = df_eda.rolling(\n",
    "    window=365,       # 365-day window\n",
    "    center=True,      # puts the average at the center of the window\n",
    "    min_periods=183,  # choose about half the window size\n",
    ").mean()              # compute the mean (could also do median, std, min, max, ...)\n",
    "\n",
    "ax = df_eda.plot(style=\".\", color=\"0.5\")\n",
    "moving_average.plot(\n",
    "    ax=ax, linewidth=3, title=\"Gold Prices - 365-Day Moving Average\", legend=False,\n",
    ");"
   ]
  },
  {
   "cell_type": "markdown",
   "id": "99ba53a6",
   "metadata": {},
   "source": [
    "## Check for Stationary or Non-Stationary Time-series\n",
    "**1)Augmented Dickey-Fuller (ADF) Test**\n",
    "- Null Hypothesis (H0): The series is not stationary\n",
    "p-val > 0.05\n",
    "- Alternate Hypothesis (H1): The series is stationary\n",
    "p-val <= 0.05"
   ]
  },
  {
   "cell_type": "code",
   "execution_count": null,
   "id": "bb3f684a",
   "metadata": {},
   "outputs": [],
   "source": [
    "result=adfuller (df['price'])\n",
    "print('Test Statistic: %f' %result[0])\n",
    "print('p-value: %f' %result[1])\n",
    "print('Critical values:')\n",
    "for key, value in result[4].items ():\n",
    "     print('\\t%s: %.3f' %(key, value))"
   ]
  },
  {
   "cell_type": "markdown",
   "id": "a136942f",
   "metadata": {},
   "source": [
    " **Analysis**\n",
    "- p-value (0.92) > critical value(0.05).\n",
    "- Failed to reject null hypothesis (The series is not stationary)\n",
    "- Hence, the time series is Non-Stationary.\n",
    "\n",
    "## Kwiatkowski-Phillips-Schmidt-Shin (KPSS) Test\n",
    "- Null Hypothesis (H0): The series is stationary\n",
    "\n",
    "p-val>0.05\n",
    "\n",
    "- Alternate Hypothesis (H1): The series is not stationary\n",
    "\n",
    "p-val <= 0.05"
   ]
  },
  {
   "cell_type": "code",
   "execution_count": null,
   "id": "86ff39d5",
   "metadata": {},
   "outputs": [],
   "source": [
    "from statsmodels.tsa.stattools import kpss\n",
    "result_kpss_ct=kpss(df['price'],regression=\"ct\")\n",
    "print('Test Statistic: %f' %result_kpss_ct[0])\n",
    "print('p-value: %f' %result_kpss_ct[1])\n",
    "print('Critical values:')\n",
    "for key, value in result_kpss_ct[3].items():\n",
    "     print('\\t%s: %.3f' %(key, value))"
   ]
  },
  {
   "cell_type": "markdown",
   "id": "9132ffc0",
   "metadata": {},
   "source": [
    "**Analysis**\n",
    "- p-val(0.01) < Critical value(0.05) Reject the null hypothesis (The series is stationary)\n",
    "- Hence, as per alternate hypothesis the time series is non stationary\n",
    "## Converting Non-Stationary to Stationary Time Series\n",
    "To make our Data Stationary We apply Some Methods\n",
    "-**Transformation**\n",
    "- i) Log Tranformation\n",
    "- ii) Square root Transformation\n",
    "- iii) Log Differencing Method\n",
    "- iv) Square root differencing\n",
    "\n",
    "**i) Log transforming of the data**"
   ]
  },
  {
   "cell_type": "code",
   "execution_count": null,
   "id": "ac957453",
   "metadata": {},
   "outputs": [],
   "source": [
    "df_log=np.log(df['price'])\n",
    "df_diff=df_log.diff().dropna()\n",
    "df_compare=df_log\n",
    "df_log.head()"
   ]
  },
  {
   "cell_type": "code",
   "execution_count": null,
   "id": "c427ac54",
   "metadata": {},
   "outputs": [],
   "source": [
    "df_log.shape"
   ]
  },
  {
   "cell_type": "code",
   "execution_count": null,
   "id": "1a4ca9f4",
   "metadata": {},
   "outputs": [],
   "source": [
    "df_diff.plot(figsize=(12,4))\n",
    "plt.show()"
   ]
  },
  {
   "cell_type": "code",
   "execution_count": null,
   "id": "1b29c98b",
   "metadata": {},
   "outputs": [],
   "source": [
    "# using ADF test\n",
    "result=adfuller (df_diff)\n",
    "print('Test Statistic: %f' %result[0])\n",
    "print('p-value: %f' %result[1])\n",
    "print('Critical values:')\n",
    "for key, value in result[4].items ():\n",
    "     print('\\t%s: %.3f' %(key, value))"
   ]
  },
  {
   "cell_type": "markdown",
   "id": "d04f731f",
   "metadata": {},
   "source": [
    "**Analysis:**\n",
    "\n",
    "- Test Statistic > Critical Value and\n",
    "- p-value < 0.05."
   ]
  },
  {
   "cell_type": "code",
   "execution_count": null,
   "id": "b4718c11",
   "metadata": {},
   "outputs": [],
   "source": [
    "# Using KPSS Test\n",
    "result_kpss_ct_log=kpss(df_diff,regression=\"ct\")\n",
    "print('Test Statistic: %f' % np.round(result_kpss_ct_log[0],2))\n",
    "print('p-value: %f' %result_kpss_ct_log[1])\n",
    "print('Critical values:')\n",
    "for key, value in result_kpss_ct_log[3].items():\n",
    "     print('\\t%s: %.3f' %(key, value))"
   ]
  },
  {
   "cell_type": "markdown",
   "id": "709372ba",
   "metadata": {},
   "source": [
    "**Analysis**\n",
    "- Test Statistic > Critical Value and p-value < 0.05.\n",
    "- here looks Reversed 0.020000 < 0.146 and 0.100000 < 0.05\n",
    "- From this we conclude that our data is stationary."
   ]
  },
  {
   "cell_type": "code",
   "execution_count": null,
   "id": "7b3b731b",
   "metadata": {},
   "outputs": [],
   "source": [
    "# Comparing both test Before Transformation and After Transformation\n",
    "plt.plot(df_diff,label=\"after\")\n",
    "plt.plot(df_compare,label=\"before\")\n",
    "plt.tick_params(\n",
    "    axis='x',        \n",
    "    which='both',   \n",
    "    bottom=False,      \n",
    "    top=False,        \n",
    "    labelbottom=False)\n",
    "plt.legend()\n",
    "plt.show() "
   ]
  },
  {
   "cell_type": "code",
   "execution_count": null,
   "id": "afcbf0f9",
   "metadata": {},
   "outputs": [],
   "source": [
    "# To find information of maximum price\n",
    "df[df['date']=='2020-12-01']"
   ]
  },
  {
   "cell_type": "code",
   "execution_count": null,
   "id": "599a2f65",
   "metadata": {},
   "outputs": [],
   "source": [
    "size = 1796\n",
    "train_data = df[:size]\n",
    "test_data = df[size:]"
   ]
  },
  {
   "cell_type": "code",
   "execution_count": null,
   "id": "c4b31649",
   "metadata": {},
   "outputs": [],
   "source": [
    "print(train_data.shape)\n",
    "print(test_data.shape)"
   ]
  },
  {
   "cell_type": "code",
   "execution_count": null,
   "id": "f4a991f0",
   "metadata": {},
   "outputs": [],
   "source": [
    "# Evaluation metric\n",
    "def MAPE(pred,org):\n",
    "    temp = np.abs((pred-org)/org)*100\n",
    "    return np.mean(temp)"
   ]
  },
  {
   "cell_type": "markdown",
   "id": "3c02a84e",
   "metadata": {},
   "source": [
    "# Simple Exponential"
   ]
  },
  {
   "cell_type": "code",
   "execution_count": null,
   "id": "73f85aaa",
   "metadata": {},
   "outputs": [],
   "source": [
    "# Simple exponential\n",
    "ses_model = SimpleExpSmoothing(train_data['price']).fit(optimized=True)\n",
    "test_pred_ses = ses_model.forecast(386)\n",
    "train_pred_ses = ses_model.fittedvalues\n",
    "test_rmse_ses = sqrt(mean_squared_error(test_pred_ses,test_data.price))\n",
    "train_rmse_ses = sqrt(mean_squared_error(train_pred_ses,train_data))\n",
    "mape_ses = MAPE(test_pred_ses,test_data.price)\n",
    "print('Simple Exponential Method Evaluation',\"\\n\",\\\n",
    "      'Mean Absolute Percent Error = {}'.format(mape_ses),\"\\n\",\\\n",
    "'Train Root Mean Squared Error = {}'.format(train_rmse_ses),\"\\n\",\n",
    "'Test Root Mean Squared Error = {}'.format(test_rmse_ses))"
   ]
  },
  {
   "cell_type": "code",
   "execution_count": null,
   "id": "63b383a4",
   "metadata": {},
   "outputs": [],
   "source": [
    "plt.figure(figsize=(14,6))\n",
    "plt.plot(train_data, label='Train')\n",
    "plt.plot(test_data, label='test')\n",
    "plt.plot(test_pred_ses, label='Simple exponential smoothing forcast')\n",
    "plt.legend(loc='best')\n",
    "plt.show()"
   ]
  },
  {
   "cell_type": "code",
   "execution_count": null,
   "id": "e656b85a",
   "metadata": {},
   "outputs": [],
   "source": [
    "# double exponential\n",
    "dexp_model  = Holt(train_data).fit(optimized=True)\n",
    "test_pred_dexp = dexp_model.forecast(386)\n",
    "train_pred_dexp = dexp_model.fittedvalues\n",
    "test_rmse_dexp = sqrt(mean_squared_error(test_pred_dexp,test_data.price))\n",
    "train_rmse_dexp = sqrt(mean_squared_error(train_pred_dexp,train_data))\n",
    "mape_dexp = MAPE(test_pred_dexp,test_data.price)\n",
    "print('Simple Exponential Method Evaluation',\"\\n\",\\\n",
    "      'Mean Absolute Percent Error = {}'.format(mape_dexp),\"\\n\",\\\n",
    "'Train Root Mean Squared Error = {}'.format(train_rmse_dexp),\"\\n\",\n",
    "'Test Root Mean Squared Error = {}'.format(test_rmse_dexp))"
   ]
  },
  {
   "cell_type": "code",
   "execution_count": null,
   "id": "9b0d8e8d",
   "metadata": {},
   "outputs": [],
   "source": [
    "plt.figure(figsize=(14,6))\n",
    "plt.plot(train_data, label='Train')\n",
    "plt.plot(test_data, label='test')\n",
    "plt.plot(test_pred_ses, label='Simple exponential smoothing forcast')\n",
    "plt.plot(test_pred_dexp, label='Double exponential smoothing forcast')\n",
    "plt.legend(loc='best')\n",
    "plt.show()"
   ]
  },
  {
   "cell_type": "markdown",
   "id": "15c4a627",
   "metadata": {},
   "source": [
    "### Holts winter exponential smoothing with additive seasonality and trend (Triple Exponential)\n",
    "- Captures Level, Trend and Seasonality."
   ]
  },
  {
   "cell_type": "code",
   "execution_count": null,
   "id": "5dbd7535",
   "metadata": {},
   "outputs": [],
   "source": [
    "texp_add_model  = ExponentialSmoothing(train_data,seasonal=\"add\",trend=\"add\",seasonal_periods=12).fit(optimized=True)\n",
    "test_pred_ad_texp = texp_add_model.forecast(386)\n",
    "train_pred_ad_texp = texp_add_model.fittedvalues\n",
    "test_rmse_ad_texp = sqrt(mean_squared_error(test_pred_ad_texp,test_data.price))\n",
    "train_rmse_ad_texp = sqrt(mean_squared_error(train_pred_ad_texp,train_data))\n",
    "mape_ad_texp = MAPE(test_pred_ad_texp,test_data.price)\n",
    "print('Triple Exponential with Additive Trend and Seosonality Method Evaluation',\"\\n\",\\\n",
    "      'Mean Absolute Percent Error = {}'.format(mape_ad_texp),\"\\n\",\\\n",
    "'Train Root Mean Squared Error = {}'.format(train_rmse_ad_texp),\"\\n\",\n",
    "'Test Root Mean Squared Error = {}'.format(test_rmse_ad_texp))"
   ]
  },
  {
   "cell_type": "code",
   "execution_count": null,
   "id": "cab9734e",
   "metadata": {},
   "outputs": [],
   "source": [
    "plt.figure(figsize=(14,6))\n",
    "plt.plot(train_data, label='Train')\n",
    "plt.plot(test_data, label='test')\n",
    "plt.plot(test_pred_ses, label='Simple exponential smoothing forcast')\n",
    "plt.plot(test_pred_dexp, label='Double exponential smoothing forcast')\n",
    "plt.plot(test_pred_ad_texp, label='Triple exponential smoothing forcast with Additive Trend and Sesonal')\n",
    "plt.legend(loc='best')\n",
    "plt.show()"
   ]
  },
  {
   "cell_type": "markdown",
   "id": "12af665d",
   "metadata": {},
   "source": [
    "## Holts winter exponential smoothing with multiplicative seasonality and additive trend (Triple Exponential)\n"
   ]
  },
  {
   "cell_type": "code",
   "execution_count": null,
   "id": "23246779",
   "metadata": {},
   "outputs": [],
   "source": [
    "texp_mul_ad_model  = ExponentialSmoothing(train_data,seasonal=\"mul\",trend=\"add\",seasonal_periods=12).fit(optimized=True)\n",
    "test_pred_mul_ad_texp = texp_mul_ad_model.forecast(386)\n",
    "train_pred_mul_ad_texp = texp_mul_ad_model.fittedvalues\n",
    "test_rmse_mul_ad_texp = sqrt(mean_squared_error(test_pred_mul_ad_texp,test_data.price))\n",
    "train_rmse_mul_ad_texp = sqrt(mean_squared_error(train_pred_mul_ad_texp,train_data))\n",
    "mape_mul_ad_texp = MAPE(test_pred_mul_ad_texp,test_data.price)\n",
    "print('Triple Exponential Method with Multiplicative Seasonality and Additive Trend',\"\\n\",\\\n",
    "      'Mean Absolute Percent Error = {}'.format(mape_mul_ad_texp),\"\\n\",\\\n",
    "'Train Root Mean Squared Error = {}'.format(train_rmse_mul_ad_texp),\"\\n\",\n",
    "'Test Root Mean Squared Error = {}'.format(test_rmse_mul_ad_texp))"
   ]
  },
  {
   "cell_type": "code",
   "execution_count": null,
   "id": "a63ec0cd",
   "metadata": {},
   "outputs": [],
   "source": [
    "plt.figure(figsize=(14,6))\n",
    "plt.plot(train_data, label='Train')\n",
    "plt.plot(test_data, label='test')\n",
    "plt.plot(test_pred_ses, label='Simple exponential smoothing forcast')\n",
    "plt.plot(test_pred_dexp, label='Double exponential smoothing forcast')\n",
    "plt.plot(test_pred_ad_texp, label='Triple exponential smoothing forcast with Additive Trend and Sesonal')\n",
    "plt.plot(test_pred_mul_ad_texp, label='Triple exponential smoothing forcast with Additive Trend and Multiplicative Sesonal')\n",
    "plt.legend(loc='best')\n",
    "plt.show()"
   ]
  },
  {
   "cell_type": "markdown",
   "id": "d979c238",
   "metadata": {},
   "source": [
    "### Holts winter exponential smoothing with Additive seasonality and multiplicative trend (Triple Exponential)"
   ]
  },
  {
   "cell_type": "code",
   "execution_count": null,
   "id": "02f96537",
   "metadata": {},
   "outputs": [],
   "source": [
    "texp_ad_mul_model  = ExponentialSmoothing(train_data,seasonal=\"add\",trend=\"mul\",seasonal_periods=12).fit(smoothing_level=0.1, smoothing_slope=0.5)\n",
    "test_pred_ad_mul_texp  = texp_ad_mul_model.forecast(386)\n",
    "train_pred_ad_mul_texp  = texp_ad_mul_model.fittedvalues\n",
    "test_rmse_ad_mul_texp  = sqrt(mean_squared_error(test_pred_ad_mul_texp ,test_data.price))\n",
    "train_rmse_ad_mul_texp  = sqrt(mean_squared_error(train_pred_ad_mul_texp ,train_data))\n",
    "mape_ad_mul_texp  = MAPE(test_pred_ad_mul_texp,test_data.price)\n",
    "print('Triple Exponential Method with Additive Seasonality and Multiplicative Trend',\"\\n\",\\\n",
    "      'Mean Absolute Percent Error = {}'.format(mape_ad_mul_texp ),\"\\n\",\\\n",
    "'Train Root Mean Squared Error = {}'.format(train_rmse_ad_mul_texp ),\"\\n\",\n",
    "'Test Root Mean Squared Error = {}'.format(test_rmse_ad_mul_texp ))"
   ]
  },
  {
   "cell_type": "code",
   "execution_count": null,
   "id": "ad743830",
   "metadata": {},
   "outputs": [],
   "source": [
    "plt.figure(figsize=(14,6))\n",
    "plt.plot(train_data, label='Train')\n",
    "plt.plot(test_data, label='test')\n",
    "plt.plot(test_pred_ses, label='Simple exponential smoothing forcast')\n",
    "plt.plot(test_pred_dexp, label='Double exponential smoothing forcast')\n",
    "plt.plot(test_pred_ad_texp, label='Triple exponential smoothing forcast with Additive Trend and Sesonal')\n",
    "plt.plot(test_pred_mul_ad_texp, label='Triple exponential smoothing forcast with Additive Trend and Multiplicative Sesonal')\n",
    "plt.plot(test_pred_ad_mul_texp, label='Triple Exponential Method with Additive Seasonality and Multiplicative Trend')\n",
    "plt.legend(loc='best')\n",
    "plt.show()"
   ]
  },
  {
   "cell_type": "markdown",
   "id": "248fd2e0",
   "metadata": {},
   "source": [
    "### Holts winter exponential smoothing with multiplicative seasonality and multiplicative trend (Triple Exponential)"
   ]
  },
  {
   "cell_type": "code",
   "execution_count": null,
   "id": "e91fc01b",
   "metadata": {},
   "outputs": [],
   "source": [
    "texp_mul_model  = ExponentialSmoothing(train_data,seasonal=\"mul\",trend=\"mul\",seasonal_periods=12).fit(optimized=True)\n",
    "test_pred_mul_texp  = texp_mul_model.forecast(12)\n",
    "train_pred_mul_texp  = texp_mul_model.fittedvalues\n",
    "test_rmse_mul_texp  = sqrt(mean_squared_error(test_pred_mul_texp ,test_data.price))\n",
    "train_rmse_mul_texp  = sqrt(mean_squared_error(train_pred_mul_texp ,train_data))\n",
    "mape_mul_texp  = MAPE(test_pred_mul_texp,test_data.price)\n",
    "print('Triple Exponential Method with multiplicative Trend and Seasonality',\"\\n\",\\\n",
    "      'Mean Absolute Percent Error = {}'.format(mape_mul_texp ),\"\\n\",\\\n",
    "'Train Root Mean Squared Error = {}'.format(train_rmse_mul_texp ),\"\\n\",\n",
    "'Test Root Mean Squared Error = {}'.format(test_rmse_mul_texp ))"
   ]
  },
  {
   "cell_type": "code",
   "execution_count": null,
   "id": "a27278b6",
   "metadata": {},
   "outputs": [],
   "source": [
    "plt.figure(figsize=(14,6))\n",
    "plt.plot(train_data, label='Train')\n",
    "plt.plot(test_data, label='Test')\n",
    "plt.plot(test_pred_ses, label='Simple exponential smoothing forcast')\n",
    "plt.plot(test_pred_dexp, label='Double exponential smoothing forcast')\n",
    "plt.plot(test_pred_ad_texp, label='Triple exponential smoothing forcast with Additive Trend and Sesonal')\n",
    "plt.plot(test_pred_mul_ad_texp, label='Triple exponential smoothing forcast with Additive Trend and Multiplicative Sesonal')\n",
    "plt.plot(test_pred_ad_mul_texp, label='Triple Exponential Method with Additive Seasonality and Multiplicative Trend')\n",
    "plt.plot(test_pred_mul_texp, label='Triple Exponential Method with multiplicative Trend and Seasonality')\n",
    "plt.legend(loc='best')\n",
    "plt.show()"
   ]
  },
  {
   "cell_type": "code",
   "execution_count": null,
   "id": "a62f2a7d",
   "metadata": {},
   "outputs": [],
   "source": [
    "#Comparing the results \n",
    "\n",
    "Evaluation = {\"Models\":pd.Series([\"Simple_Exp\",\"Double_Exp\",\"Triple_Exp_ad\",\"Triple_Exp_mul_ad\",\"Triple_Exp_ad_mul\"\\\n",
    "                                  ,\"Triple_Exp_mul\"]),\\\n",
    "        \"Train_RMSE\":pd.Series([train_rmse_ses,train_rmse_dexp,train_rmse_ad_texp,train_rmse_mul_ad_texp,train_rmse_ad_mul_texp,train_rmse_mul_texp]),\\\n",
    "        \"Test_MAPE(%)\":pd.Series([mape_ses,mape_dexp,mape_ad_texp,mape_mul_ad_texp,mape_ad_mul_texp,mape_mul_texp]),\\\n",
    "        \"Test_RMSE_Values\":pd.Series([test_rmse_ses,test_rmse_dexp,test_rmse_ad_texp,test_rmse_mul_ad_texp,test_rmse_ad_mul_texp,test_rmse_mul_texp])}\n",
    "table_evaluation=pd.DataFrame(Evaluation)\n",
    "table_evaluation.sort_values(['Test_MAPE(%)'], inplace=True, ignore_index=True)\n",
    "table_evaluation"
   ]
  },
  {
   "cell_type": "code",
   "execution_count": null,
   "id": "62340dd6",
   "metadata": {},
   "outputs": [],
   "source": []
  },
  {
   "cell_type": "code",
   "execution_count": null,
   "id": "e3eb7026",
   "metadata": {},
   "outputs": [],
   "source": []
  },
  {
   "cell_type": "code",
   "execution_count": null,
   "id": "e2b61d6e",
   "metadata": {},
   "outputs": [],
   "source": [
    "from pmdarima import auto_arima\n",
    "\n",
    "from statsmodels.tsa.arima.model import ARIMA\n"
   ]
  },
  {
   "cell_type": "code",
   "execution_count": null,
   "id": "0c1f298b",
   "metadata": {},
   "outputs": [],
   "source": [
    "differencing.head()"
   ]
  },
  {
   "cell_type": "code",
   "execution_count": null,
   "id": "bac15291",
   "metadata": {},
   "outputs": [],
   "source": []
  },
  {
   "cell_type": "code",
   "execution_count": null,
   "id": "b5f27a6e",
   "metadata": {},
   "outputs": [],
   "source": []
  },
  {
   "cell_type": "code",
   "execution_count": null,
   "id": "26778796",
   "metadata": {},
   "outputs": [],
   "source": []
  },
  {
   "cell_type": "code",
   "execution_count": null,
   "id": "ca821ffb",
   "metadata": {},
   "outputs": [],
   "source": []
  },
  {
   "cell_type": "code",
   "execution_count": null,
   "id": "9c69422e",
   "metadata": {},
   "outputs": [],
   "source": []
  },
  {
   "cell_type": "code",
   "execution_count": null,
   "id": "82a99cd8",
   "metadata": {},
   "outputs": [],
   "source": []
  },
  {
   "cell_type": "code",
   "execution_count": null,
   "id": "64421a29",
   "metadata": {},
   "outputs": [],
   "source": [
    "from prophet import Prophet"
   ]
  },
  {
   "cell_type": "code",
   "execution_count": null,
   "id": "1b3beb8b",
   "metadata": {},
   "outputs": [],
   "source": [
    "p = Prophet(interval_width=0.92, daily_seasonality=True)"
   ]
  },
  {
   "cell_type": "code",
   "execution_count": null,
   "id": "3caf4ba9",
   "metadata": {},
   "outputs": [],
   "source": [
    "df2=data.copy()\n",
    "df2.dtypes"
   ]
  },
  {
   "cell_type": "code",
   "execution_count": null,
   "id": "6f640713",
   "metadata": {},
   "outputs": [],
   "source": [
    "df2"
   ]
  },
  {
   "cell_type": "code",
   "execution_count": null,
   "id": "ed49a5bf",
   "metadata": {},
   "outputs": [],
   "source": [
    "df2.columns = ['ds', 'y']\n",
    "df2.head()"
   ]
  },
  {
   "cell_type": "code",
   "execution_count": null,
   "id": "d795ce39",
   "metadata": {},
   "outputs": [],
   "source": [
    "model = p.fit(df2)"
   ]
  },
  {
   "cell_type": "code",
   "execution_count": null,
   "id": "41b9fed6",
   "metadata": {},
   "outputs": [],
   "source": [
    "forecast_prediction = p.predict(df2)\n",
    "forecast_prediction.tail()"
   ]
  },
  {
   "cell_type": "code",
   "execution_count": null,
   "id": "ad73b989",
   "metadata": {},
   "outputs": [],
   "source": [
    "plot1 = p.plot(forecast_prediction)"
   ]
  },
  {
   "cell_type": "code",
   "execution_count": null,
   "id": "308909a7",
   "metadata": {},
   "outputs": [],
   "source": [
    "plot2 = p.plot_components(forecast_prediction)"
   ]
  },
  {
   "cell_type": "code",
   "execution_count": null,
   "id": "3d82c350",
   "metadata": {},
   "outputs": [],
   "source": [
    "print(forecast_prediction[['ds', 'yhat', 'yhat_lower', 'yhat_upper']].head())\n",
    "# plot forecast\n",
    "model.plot(forecast_prediction)\n",
    "plt.show()"
   ]
  },
  {
   "cell_type": "code",
   "execution_count": null,
   "id": "63c97a54",
   "metadata": {},
   "outputs": [],
   "source": [
    "future1 = p.make_future_dataframe(periods=30)"
   ]
  },
  {
   "cell_type": "code",
   "execution_count": null,
   "id": "8a19e627",
   "metadata": {},
   "outputs": [],
   "source": [
    "forecast1 = p.predict(future1)"
   ]
  },
  {
   "cell_type": "code",
   "execution_count": null,
   "id": "c4a23ce0",
   "metadata": {},
   "outputs": [],
   "source": [
    "forecast1[['ds', 'yhat', 'yhat_lower', 'yhat_upper']].tail()"
   ]
  },
  {
   "cell_type": "code",
   "execution_count": null,
   "id": "e7cfac93",
   "metadata": {},
   "outputs": [],
   "source": [
    "p.plot(forecast1);"
   ]
  },
  {
   "cell_type": "code",
   "execution_count": null,
   "id": "55114a1f",
   "metadata": {},
   "outputs": [],
   "source": [
    "p.plot_components(forecast1);"
   ]
  },
  {
   "cell_type": "markdown",
   "id": "f1f3236f",
   "metadata": {},
   "source": [
    "Conclusion\n",
    "So, this is how one can use the Fbprophet library to easily predict future time series data without wasting much time on tuning the model. There is also a provision to perform cross-validation with the help of the Prophet library which helps in increasing the accuracy of predictions."
   ]
  },
  {
   "cell_type": "code",
   "execution_count": null,
   "id": "624394f4",
   "metadata": {},
   "outputs": [],
   "source": []
  },
  {
   "cell_type": "code",
   "execution_count": null,
   "id": "a6194ceb",
   "metadata": {},
   "outputs": [],
   "source": []
  },
  {
   "cell_type": "code",
   "execution_count": null,
   "id": "bf671881",
   "metadata": {},
   "outputs": [],
   "source": []
  },
  {
   "cell_type": "code",
   "execution_count": null,
   "id": "36e8c2fc",
   "metadata": {},
   "outputs": [],
   "source": []
  },
  {
   "cell_type": "code",
   "execution_count": null,
   "id": "2d51b827",
   "metadata": {},
   "outputs": [],
   "source": []
  }
 ],
 "metadata": {
  "kernelspec": {
   "display_name": "Python 3 (ipykernel)",
   "language": "python",
   "name": "python3"
  },
  "language_info": {
   "codemirror_mode": {
    "name": "ipython",
    "version": 3
   },
   "file_extension": ".py",
   "mimetype": "text/x-python",
   "name": "python",
   "nbconvert_exporter": "python",
   "pygments_lexer": "ipython3",
   "version": "3.9.13"
  }
 },
 "nbformat": 4,
 "nbformat_minor": 5
}
